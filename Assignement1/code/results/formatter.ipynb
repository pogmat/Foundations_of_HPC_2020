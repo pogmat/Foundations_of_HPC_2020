{
 "cells": [
  {
   "cell_type": "code",
   "execution_count": 13,
   "metadata": {},
   "outputs": [],
   "source": [
    "import re\n",
    "import numpy as np\n",
    "import pandas as pd\n",
    "import matplotlib.pyplot as plt\n",
    "import datetime"
   ]
  },
  {
   "cell_type": "code",
   "execution_count": 7,
   "metadata": {},
   "outputs": [],
   "source": [
    "procs = [1] + list(range(4, 48 + 1, 4))\n",
    "launches = [ launch for launch in procs for i in range(3)]\n",
    "\n",
    "with open(\"parallel-08.output\", \"r\") as file:\n",
    "    chunks =[]\n",
    "    for launch in launches:\n",
    "        chunk = \"\"\n",
    "        line_n = 0\n",
    "        while line_n <= launch:\n",
    "            line = file.readline()\n",
    "            if line != '\\n':\n",
    "                line_n += 1\n",
    "                chunk += line\n",
    "        chunks.append(chunk[:-1])"
   ]
  },
  {
   "cell_type": "code",
   "execution_count": 8,
   "metadata": {},
   "outputs": [],
   "source": [
    "data = []\n",
    "for chunk, procs_n in zip(chunks, launches):\n",
    "    trials = int(re.compile(\" # of trials = (.*) ,\").search(chunk).group(1))\n",
    "    estimate = float(re.compile(\"estimate of pi is (.*) \").search(chunk).group(1))\n",
    "    master_t = float(re.compile(\"master processor : (.*) \").search(chunk).group(1))\n",
    "    procs_t = [float(re.compile(\"on processor {} : (.*) \".format(proc)).search(chunk).group(1)) for proc in range(1, procs_n)]\n",
    "    data.append({\"trials\": trials, \"estimate\": estimate, \"master_t\": master_t, \"procs_t\": procs_t})"
   ]
  },
  {
   "cell_type": "code",
   "execution_count": 9,
   "metadata": {},
   "outputs": [
    {
     "data": {
      "text/plain": [
       "{'trials': 100000000,\n",
       " 'estimate': 3.14138216,\n",
       " 'master_t': 0.64413674,\n",
       " 'procs_t': [0.64407022, 0.64414092, 0.64370276]}"
      ]
     },
     "execution_count": 9,
     "metadata": {},
     "output_type": "execute_result"
    }
   ],
   "source": [
    "data[4]"
   ]
  },
  {
   "cell_type": "code",
   "execution_count": 49,
   "metadata": {},
   "outputs": [],
   "source": [
    "def get_formatted_data(output_name, error_name, launches):\n",
    "    data = []\n",
    "    trials_re = re.compile(\" # of trials = (.*) ,\")\n",
    "    estimate_re = re.compile(\"estimate of pi is (.*) \")\n",
    "    master_t_re = re.compile(\"master processor : (.*) \")\n",
    "    elapsed_t_re = re.compile(\"system (.*)elapsed \")\n",
    "    cpu_re = re.compile(\"elapsed (.*)%CPU \")\n",
    "    with open(output_name, \"r\") as output, open(error_name, \"r\") as error:\n",
    "        for launch in launches:\n",
    "            o_chunk = \"\"\n",
    "            o_line_n = 0\n",
    "            e_chunk = \"\"\n",
    "            while o_line_n <= launch:\n",
    "                o_line = output.readline()\n",
    "                if o_line != '\\n':\n",
    "                    o_line_n += 1\n",
    "                    o_chunk += o_line\n",
    "            trials = int(trials_re.search(o_chunk).group(1))\n",
    "            estimate = float(estimate_re.search(o_chunk).group(1))\n",
    "            master_t = float(master_t_re.search(o_chunk).group(1))\n",
    "            procs_t = [float(re.compile(\"on processor {} : (.*) \".format(proc)).search(o_chunk).group(1)) for proc in range(1, launch)]\n",
    "            e_chunk += error.readline()\n",
    "            e_chunk += error.readline()\n",
    "            elapsed_s = elapsed_t_re.search(e_chunk).group(1).split(\":\")\n",
    "            elapsed_t = float(elapsed_s[-1]) + 60 * float(elapsed_s[-2])\n",
    "            cpu = float(cpu_re.search(e_chunk).group(1))/100\n",
    "            data.append({\"P\": launch,\n",
    "                         \"trials\": trials,\n",
    "                         \"estimate\": estimate,\n",
    "                         \"elapsed_t\": elapsed_t,\n",
    "                         \"master_t\": master_t,\n",
    "                         \"procs_t\": procs_t,\n",
    "                         \"CPU\": cpu\n",
    "                         })\n",
    "        return data"
   ]
  },
  {
   "cell_type": "code",
   "execution_count": 50,
   "metadata": {},
   "outputs": [],
   "source": [
    "procs = [1] + list(range(4, 48 + 1, 4))\n",
    "launches = [ launch for launch in procs for i in range(3)]\n",
    "\n",
    "d08 = get_formatted_data(\"parallel-08.output\", \"parallel-08.error\", launches)"
   ]
  },
  {
   "cell_type": "code",
   "execution_count": 51,
   "metadata": {},
   "outputs": [
    {
     "data": {
      "text/plain": [
       "{'P': 1,\n",
       " 'trials': 100000000,\n",
       " 'estimate': 3.14139104,\n",
       " 'elapsed_t': 2.92,\n",
       " 'master_t': 2.571225,\n",
       " 'procs_t': [],\n",
       " 'CPU': 0.95}"
      ]
     },
     "execution_count": 51,
     "metadata": {},
     "output_type": "execute_result"
    }
   ],
   "source": [
    "d08[0]"
   ]
  },
  {
   "cell_type": "code",
   "execution_count": 77,
   "metadata": {},
   "outputs": [
    {
     "data": {
      "text/html": [
       "<div>\n",
       "<style scoped>\n",
       "    .dataframe tbody tr th:only-of-type {\n",
       "        vertical-align: middle;\n",
       "    }\n",
       "\n",
       "    .dataframe tbody tr th {\n",
       "        vertical-align: top;\n",
       "    }\n",
       "\n",
       "    .dataframe thead th {\n",
       "        text-align: right;\n",
       "    }\n",
       "</style>\n",
       "<table border=\"1\" class=\"dataframe\">\n",
       "  <thead>\n",
       "    <tr style=\"text-align: right;\">\n",
       "      <th></th>\n",
       "      <th>P</th>\n",
       "      <th>master_t</th>\n",
       "    </tr>\n",
       "  </thead>\n",
       "  <tbody>\n",
       "    <tr>\n",
       "      <th>0</th>\n",
       "      <td>1</td>\n",
       "      <td>2.571225</td>\n",
       "    </tr>\n",
       "    <tr>\n",
       "      <th>1</th>\n",
       "      <td>1</td>\n",
       "      <td>2.574916</td>\n",
       "    </tr>\n",
       "    <tr>\n",
       "      <th>2</th>\n",
       "      <td>1</td>\n",
       "      <td>2.577572</td>\n",
       "    </tr>\n",
       "    <tr>\n",
       "      <th>3</th>\n",
       "      <td>4</td>\n",
       "      <td>0.644498</td>\n",
       "    </tr>\n",
       "    <tr>\n",
       "      <th>4</th>\n",
       "      <td>4</td>\n",
       "      <td>0.644137</td>\n",
       "    </tr>\n",
       "    <tr>\n",
       "      <th>5</th>\n",
       "      <td>4</td>\n",
       "      <td>0.646512</td>\n",
       "    </tr>\n",
       "    <tr>\n",
       "      <th>6</th>\n",
       "      <td>8</td>\n",
       "      <td>0.322922</td>\n",
       "    </tr>\n",
       "    <tr>\n",
       "      <th>7</th>\n",
       "      <td>8</td>\n",
       "      <td>0.322980</td>\n",
       "    </tr>\n",
       "    <tr>\n",
       "      <th>8</th>\n",
       "      <td>8</td>\n",
       "      <td>0.322767</td>\n",
       "    </tr>\n",
       "    <tr>\n",
       "      <th>9</th>\n",
       "      <td>12</td>\n",
       "      <td>0.223122</td>\n",
       "    </tr>\n",
       "    <tr>\n",
       "      <th>10</th>\n",
       "      <td>12</td>\n",
       "      <td>0.219576</td>\n",
       "    </tr>\n",
       "    <tr>\n",
       "      <th>11</th>\n",
       "      <td>12</td>\n",
       "      <td>0.215162</td>\n",
       "    </tr>\n",
       "    <tr>\n",
       "      <th>12</th>\n",
       "      <td>16</td>\n",
       "      <td>0.168326</td>\n",
       "    </tr>\n",
       "    <tr>\n",
       "      <th>13</th>\n",
       "      <td>16</td>\n",
       "      <td>0.163413</td>\n",
       "    </tr>\n",
       "    <tr>\n",
       "      <th>14</th>\n",
       "      <td>16</td>\n",
       "      <td>0.167428</td>\n",
       "    </tr>\n",
       "    <tr>\n",
       "      <th>15</th>\n",
       "      <td>20</td>\n",
       "      <td>0.137138</td>\n",
       "    </tr>\n",
       "    <tr>\n",
       "      <th>16</th>\n",
       "      <td>20</td>\n",
       "      <td>0.135854</td>\n",
       "    </tr>\n",
       "    <tr>\n",
       "      <th>17</th>\n",
       "      <td>20</td>\n",
       "      <td>0.136200</td>\n",
       "    </tr>\n",
       "    <tr>\n",
       "      <th>18</th>\n",
       "      <td>24</td>\n",
       "      <td>0.117941</td>\n",
       "    </tr>\n",
       "    <tr>\n",
       "      <th>19</th>\n",
       "      <td>24</td>\n",
       "      <td>0.115820</td>\n",
       "    </tr>\n",
       "    <tr>\n",
       "      <th>20</th>\n",
       "      <td>24</td>\n",
       "      <td>0.115171</td>\n",
       "    </tr>\n",
       "    <tr>\n",
       "      <th>21</th>\n",
       "      <td>28</td>\n",
       "      <td>0.099686</td>\n",
       "    </tr>\n",
       "    <tr>\n",
       "      <th>22</th>\n",
       "      <td>28</td>\n",
       "      <td>0.113336</td>\n",
       "    </tr>\n",
       "    <tr>\n",
       "      <th>23</th>\n",
       "      <td>28</td>\n",
       "      <td>0.100769</td>\n",
       "    </tr>\n",
       "    <tr>\n",
       "      <th>24</th>\n",
       "      <td>32</td>\n",
       "      <td>0.114751</td>\n",
       "    </tr>\n",
       "    <tr>\n",
       "      <th>25</th>\n",
       "      <td>32</td>\n",
       "      <td>0.089479</td>\n",
       "    </tr>\n",
       "    <tr>\n",
       "      <th>26</th>\n",
       "      <td>32</td>\n",
       "      <td>0.114512</td>\n",
       "    </tr>\n",
       "    <tr>\n",
       "      <th>27</th>\n",
       "      <td>36</td>\n",
       "      <td>0.093422</td>\n",
       "    </tr>\n",
       "    <tr>\n",
       "      <th>28</th>\n",
       "      <td>36</td>\n",
       "      <td>0.094872</td>\n",
       "    </tr>\n",
       "    <tr>\n",
       "      <th>29</th>\n",
       "      <td>36</td>\n",
       "      <td>0.088981</td>\n",
       "    </tr>\n",
       "    <tr>\n",
       "      <th>30</th>\n",
       "      <td>40</td>\n",
       "      <td>0.090661</td>\n",
       "    </tr>\n",
       "    <tr>\n",
       "      <th>31</th>\n",
       "      <td>40</td>\n",
       "      <td>0.077718</td>\n",
       "    </tr>\n",
       "    <tr>\n",
       "      <th>32</th>\n",
       "      <td>40</td>\n",
       "      <td>0.113284</td>\n",
       "    </tr>\n",
       "    <tr>\n",
       "      <th>33</th>\n",
       "      <td>44</td>\n",
       "      <td>0.132991</td>\n",
       "    </tr>\n",
       "    <tr>\n",
       "      <th>34</th>\n",
       "      <td>44</td>\n",
       "      <td>0.135172</td>\n",
       "    </tr>\n",
       "    <tr>\n",
       "      <th>35</th>\n",
       "      <td>44</td>\n",
       "      <td>0.095088</td>\n",
       "    </tr>\n",
       "    <tr>\n",
       "      <th>36</th>\n",
       "      <td>48</td>\n",
       "      <td>0.126100</td>\n",
       "    </tr>\n",
       "    <tr>\n",
       "      <th>37</th>\n",
       "      <td>48</td>\n",
       "      <td>0.125013</td>\n",
       "    </tr>\n",
       "    <tr>\n",
       "      <th>38</th>\n",
       "      <td>48</td>\n",
       "      <td>0.105218</td>\n",
       "    </tr>\n",
       "  </tbody>\n",
       "</table>\n",
       "</div>"
      ],
      "text/plain": [
       "     P  master_t\n",
       "0    1  2.571225\n",
       "1    1  2.574916\n",
       "2    1  2.577572\n",
       "3    4  0.644498\n",
       "4    4  0.644137\n",
       "5    4  0.646512\n",
       "6    8  0.322922\n",
       "7    8  0.322980\n",
       "8    8  0.322767\n",
       "9   12  0.223122\n",
       "10  12  0.219576\n",
       "11  12  0.215162\n",
       "12  16  0.168326\n",
       "13  16  0.163413\n",
       "14  16  0.167428\n",
       "15  20  0.137138\n",
       "16  20  0.135854\n",
       "17  20  0.136200\n",
       "18  24  0.117941\n",
       "19  24  0.115820\n",
       "20  24  0.115171\n",
       "21  28  0.099686\n",
       "22  28  0.113336\n",
       "23  28  0.100769\n",
       "24  32  0.114751\n",
       "25  32  0.089479\n",
       "26  32  0.114512\n",
       "27  36  0.093422\n",
       "28  36  0.094872\n",
       "29  36  0.088981\n",
       "30  40  0.090661\n",
       "31  40  0.077718\n",
       "32  40  0.113284\n",
       "33  44  0.132991\n",
       "34  44  0.135172\n",
       "35  44  0.095088\n",
       "36  48  0.126100\n",
       "37  48  0.125013\n",
       "38  48  0.105218"
      ]
     },
     "execution_count": 77,
     "metadata": {},
     "output_type": "execute_result"
    }
   ],
   "source": [
    "ddd=pd.DataFrame(d08)[[\"P\",\"master_t\"]]\n",
    "ddd"
   ]
  },
  {
   "cell_type": "code",
   "execution_count": 87,
   "metadata": {},
   "outputs": [
    {
     "data": {
      "text/plain": [
       "[<matplotlib.lines.Line2D at 0x7f9188cbcd00>]"
      ]
     },
     "execution_count": 87,
     "metadata": {},
     "output_type": "execute_result"
    },
    {
     "data": {
      "image/png": "[encoded data removed]",
      "text/plain": [
       "<Figure size 432x288 with 1 Axes>"
      ]
     },
     "metadata": {
      "needs_background": "light"
     },
     "output_type": "display_data"
    }
   ],
   "source": []
  },
  {
   "cell_type": "code",
   "execution_count": 58,
   "metadata": {},
   "outputs": [],
   "source": [
    "d09 = get_formatted_data(\"parallel-09.output\", \"parallel-09.error\", launches)"
   ]
  },
  {
   "cell_type": "code",
   "execution_count": 62,
   "metadata": {},
   "outputs": [
    {
     "data": {
      "text/plain": [
       "{'P': 12,\n",
       " 'trials': 999999996,\n",
       " 'estimate': 3.141513241,\n",
       " 'elapsed_t': 2.58,\n",
       " 'master_t': 2.17695476,\n",
       " 'procs_t': [2.15929677,\n",
       "  2.17434147,\n",
       "  2.17484054,\n",
       "  2.1749156,\n",
       "  2.17469826,\n",
       "  2.17463813,\n",
       "  2.17462083,\n",
       "  2.17484683,\n",
       "  2.17688645,\n",
       "  2.17690909,\n",
       "  2.17687413],\n",
       " 'CPU': 11.2}"
      ]
     },
     "execution_count": 62,
     "metadata": {},
     "output_type": "execute_result"
    }
   ],
   "source": [
    "d09[9]"
   ]
  },
  {
   "cell_type": "code",
   "execution_count": 65,
   "metadata": {},
   "outputs": [
    {
     "data": {
      "text/plain": [
       "{'P': 12,\n",
       " 'trials': 99999996,\n",
       " 'estimate': 3.141557246,\n",
       " 'elapsed_t': 0.61,\n",
       " 'master_t': 0.21957637,\n",
       " 'procs_t': [0.21472211,\n",
       "  0.21471918,\n",
       "  0.21469726,\n",
       "  0.21481945,\n",
       "  0.21470348,\n",
       "  0.21477291,\n",
       "  0.21481147,\n",
       "  0.21886138,\n",
       "  0.21824338,\n",
       "  0.21945612,\n",
       "  0.21922083],\n",
       " 'CPU': 8.72}"
      ]
     },
     "execution_count": 65,
     "metadata": {},
     "output_type": "execute_result"
    }
   ],
   "source": [
    "d08[10]"
   ]
  },
  {
   "cell_type": "code",
   "execution_count": null,
   "metadata": {},
   "outputs": [],
   "source": []
  }
 ],
 "metadata": {
  "kernelspec": {
   "display_name": "Python 3",
   "language": "python",
   "name": "python3"
  },
  "language_info": {
   "codemirror_mode": {
    "name": "ipython",
    "version": 3
   },
   "file_extension": ".py",
   "mimetype": "text/x-python",
   "name": "python",
   "nbconvert_exporter": "python",
   "pygments_lexer": "ipython3",
   "version": "3.8.6"
  }
 },
 "nbformat": 4,
 "nbformat_minor": 4
}
