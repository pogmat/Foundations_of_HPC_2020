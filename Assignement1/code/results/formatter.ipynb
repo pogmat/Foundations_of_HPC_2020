{
 "cells": [
  {
   "cell_type": "code",
   "execution_count": 2,
   "metadata": {},
   "outputs": [],
   "source": [
    "import re\n",
    "import numpy as np\n",
    "import pandas as pd\n",
    "import matplotlib.pyplot as plt\n",
    "import datetime"
   ]
  },
  {
   "cell_type": "code",
   "execution_count": 3,
   "metadata": {},
   "outputs": [],
   "source": [
    "procs = [1] + list(range(4, 48 + 1, 4))\n",
    "launches = [ launch for launch in procs for i in range(3)]\n",
    "\n",
    "with open(\"parallel-08.output\", \"r\") as file:\n",
    "    chunks =[]\n",
    "    for launch in launches:\n",
    "        chunk = \"\"\n",
    "        line_n = 0\n",
    "        while line_n <= launch:\n",
    "            line = file.readline()\n",
    "            if line != '\\n':\n",
    "                line_n += 1\n",
    "                chunk += line\n",
    "        chunks.append(chunk[:-1])"
   ]
  },
  {
   "cell_type": "code",
   "execution_count": 4,
   "metadata": {},
   "outputs": [],
   "source": [
    "data = []\n",
    "for chunk, procs_n in zip(chunks, launches):\n",
    "    trials = int(re.compile(\" # of trials = (.*) ,\").search(chunk).group(1))\n",
    "    estimate = float(re.compile(\"estimate of pi is (.*) \").search(chunk).group(1))\n",
    "    master_t = float(re.compile(\"master processor : (.*) \").search(chunk).group(1))\n",
    "    procs_t = [float(re.compile(\"on processor {} : (.*) \".format(proc)).search(chunk).group(1)) for proc in range(1, procs_n)]\n",
    "    data.append({\"trials\": trials, \"estimate\": estimate, \"master_t\": master_t, \"procs_t\": procs_t})"
   ]
  },
  {
   "cell_type": "code",
   "execution_count": 5,
   "metadata": {},
   "outputs": [
    {
     "data": {
      "text/plain": [
       "{'trials': 100000000,\n",
       " 'estimate': 3.14138216,\n",
       " 'master_t': 0.64413674,\n",
       " 'procs_t': [0.64407022, 0.64414092, 0.64370276]}"
      ]
     },
     "execution_count": 5,
     "metadata": {},
     "output_type": "execute_result"
    }
   ],
   "source": [
    "data[4]"
   ]
  },
  {
   "cell_type": "code",
   "execution_count": 6,
   "metadata": {},
   "outputs": [],
   "source": [
    "def get_formatted_data(output_name, error_name, launches):\n",
    "    data = []\n",
    "    trials_re = re.compile(\" # of trials = (.*) ,\")\n",
    "    estimate_re = re.compile(\"estimate of pi is (.*) \")\n",
    "    master_t_re = re.compile(\"master processor : (.*) \")\n",
    "    elapsed_t_re = re.compile(\"system (.*)elapsed \")\n",
    "    cpu_re = re.compile(\"elapsed (.*)%CPU \")\n",
    "    with open(output_name, \"r\") as output, open(error_name, \"r\") as error:\n",
    "        for launch in launches:\n",
    "            o_chunk = \"\"\n",
    "            o_line_n = 0\n",
    "            e_chunk = \"\"\n",
    "            while o_line_n <= launch:\n",
    "                o_line = output.readline()\n",
    "                if o_line != '\\n':\n",
    "                    o_line_n += 1\n",
    "                    o_chunk += o_line\n",
    "            trials = int(trials_re.search(o_chunk).group(1))\n",
    "            estimate = float(estimate_re.search(o_chunk).group(1))\n",
    "            master_t = float(master_t_re.search(o_chunk).group(1))\n",
    "            procs_t = [master_t] + [float(re.compile(\"on processor {} : (.*) \".format(proc)).search(o_chunk).group(1)) for proc in range(1, launch)]\n",
    "            e_chunk += error.readline()\n",
    "            e_chunk += error.readline()\n",
    "            elapsed_s = elapsed_t_re.search(e_chunk).group(1).split(\":\")\n",
    "            elapsed_t = float(elapsed_s[-1]) + 60 * float(elapsed_s[-2])\n",
    "            cpu = float(cpu_re.search(e_chunk).group(1))/100\n",
    "            data.append({\"P\": launch,\n",
    "                         \"trials\": trials,\n",
    "                         \"estimate\": estimate,\n",
    "                         \"elapsed_t\": elapsed_t,\n",
    "                         \"master_t\": master_t,\n",
    "                         \"procs_t\": procs_t,\n",
    "                         \"CPU\": cpu\n",
    "                         })\n",
    "        return data"
   ]
  },
  {
   "cell_type": "code",
   "execution_count": 7,
   "metadata": {},
   "outputs": [],
   "source": [
    "procs = [1] + list(range(4, 48 + 1, 4))\n",
    "launches = [ launch for launch in procs for i in range(3)]\n",
    "\n",
    "d08 = get_formatted_data(\"parallel-08.output\", \"parallel-08.error\", launches)"
   ]
  },
  {
   "cell_type": "code",
   "execution_count": 8,
   "metadata": {},
   "outputs": [
    {
     "data": {
      "text/plain": [
       "{'P': 1,\n",
       " 'trials': 100000000,\n",
       " 'estimate': 3.14139104,\n",
       " 'elapsed_t': 2.92,\n",
       " 'master_t': 2.571225,\n",
       " 'procs_t': [2.571225],\n",
       " 'CPU': 0.95}"
      ]
     },
     "execution_count": 8,
     "metadata": {},
     "output_type": "execute_result"
    }
   ],
   "source": [
    "d08[0]"
   ]
  },
  {
   "cell_type": "code",
   "execution_count": 111,
   "metadata": {},
   "outputs": [],
   "source": [
    "ddd=pd.DataFrame(d08)[[\"P\",\"master_t\",\"elapsed_t\"]].groupby(\"P\").mean()"
   ]
  },
  {
   "cell_type": "code",
   "execution_count": 112,
   "metadata": {},
   "outputs": [
    {
     "data": {
      "text/html": [
       "<div>\n",
       "<style scoped>\n",
       "    .dataframe tbody tr th:only-of-type {\n",
       "        vertical-align: middle;\n",
       "    }\n",
       "\n",
       "    .dataframe tbody tr th {\n",
       "        vertical-align: top;\n",
       "    }\n",
       "\n",
       "    .dataframe thead th {\n",
       "        text-align: right;\n",
       "    }\n",
       "</style>\n",
       "<table border=\"1\" class=\"dataframe\">\n",
       "  <thead>\n",
       "    <tr style=\"text-align: right;\">\n",
       "      <th></th>\n",
       "      <th>master_t</th>\n",
       "      <th>elapsed_t</th>\n",
       "    </tr>\n",
       "    <tr>\n",
       "      <th>P</th>\n",
       "      <th></th>\n",
       "      <th></th>\n",
       "    </tr>\n",
       "  </thead>\n",
       "  <tbody>\n",
       "    <tr>\n",
       "      <th>1</th>\n",
       "      <td>2.574571</td>\n",
       "      <td>2.860000</td>\n",
       "    </tr>\n",
       "    <tr>\n",
       "      <th>4</th>\n",
       "      <td>0.645049</td>\n",
       "      <td>0.943333</td>\n",
       "    </tr>\n",
       "    <tr>\n",
       "      <th>8</th>\n",
       "      <td>0.322890</td>\n",
       "      <td>0.660000</td>\n",
       "    </tr>\n",
       "    <tr>\n",
       "      <th>12</th>\n",
       "      <td>0.219287</td>\n",
       "      <td>0.606667</td>\n",
       "    </tr>\n",
       "    <tr>\n",
       "      <th>16</th>\n",
       "      <td>0.166389</td>\n",
       "      <td>0.600000</td>\n",
       "    </tr>\n",
       "    <tr>\n",
       "      <th>20</th>\n",
       "      <td>0.136397</td>\n",
       "      <td>0.633333</td>\n",
       "    </tr>\n",
       "    <tr>\n",
       "      <th>24</th>\n",
       "      <td>0.116310</td>\n",
       "      <td>0.676667</td>\n",
       "    </tr>\n",
       "    <tr>\n",
       "      <th>28</th>\n",
       "      <td>0.104597</td>\n",
       "      <td>0.800000</td>\n",
       "    </tr>\n",
       "    <tr>\n",
       "      <th>32</th>\n",
       "      <td>0.106247</td>\n",
       "      <td>0.846667</td>\n",
       "    </tr>\n",
       "    <tr>\n",
       "      <th>36</th>\n",
       "      <td>0.092425</td>\n",
       "      <td>0.926667</td>\n",
       "    </tr>\n",
       "    <tr>\n",
       "      <th>40</th>\n",
       "      <td>0.093887</td>\n",
       "      <td>1.046667</td>\n",
       "    </tr>\n",
       "    <tr>\n",
       "      <th>44</th>\n",
       "      <td>0.121084</td>\n",
       "      <td>1.240000</td>\n",
       "    </tr>\n",
       "    <tr>\n",
       "      <th>48</th>\n",
       "      <td>0.118777</td>\n",
       "      <td>1.316667</td>\n",
       "    </tr>\n",
       "  </tbody>\n",
       "</table>\n",
       "</div>"
      ],
      "text/plain": [
       "    master_t  elapsed_t\n",
       "P                      \n",
       "1   2.574571   2.860000\n",
       "4   0.645049   0.943333\n",
       "8   0.322890   0.660000\n",
       "12  0.219287   0.606667\n",
       "16  0.166389   0.600000\n",
       "20  0.136397   0.633333\n",
       "24  0.116310   0.676667\n",
       "28  0.104597   0.800000\n",
       "32  0.106247   0.846667\n",
       "36  0.092425   0.926667\n",
       "40  0.093887   1.046667\n",
       "44  0.121084   1.240000\n",
       "48  0.118777   1.316667"
      ]
     },
     "execution_count": 112,
     "metadata": {},
     "output_type": "execute_result"
    }
   ],
   "source": [
    "ddd"
   ]
  },
  {
   "cell_type": "code",
   "execution_count": 114,
   "metadata": {},
   "outputs": [],
   "source": [
    "ddd[\"r\"] = ddd.loc[1, \"master_t\"] / ddd[\"master_t\"]\n",
    "ddd[\"re\"] = ddd.loc[1, \"elapsed_t\"] / ddd[\"elapsed_t\"]"
   ]
  },
  {
   "cell_type": "code",
   "execution_count": 115,
   "metadata": {},
   "outputs": [
    {
     "data": {
      "text/plain": [
       "[<matplotlib.lines.Line2D at 0x7f9188988e50>,\n",
       " <matplotlib.lines.Line2D at 0x7f9188988f40>]"
      ]
     },
     "execution_count": 115,
     "metadata": {},
     "output_type": "execute_result"
    },
    {
     "data": {
      "image/png": "[encoded data removed]",
      "text/plain": [
       "<Figure size 432x288 with 1 Axes>"
      ]
     },
     "metadata": {
      "needs_background": "light"
     },
     "output_type": "display_data"
    }
   ],
   "source": [
    "plt.plot(ddd[[\"r\", \"re\"]])"
   ]
  },
  {
   "cell_type": "code",
   "execution_count": 118,
   "metadata": {},
   "outputs": [],
   "source": [
    "d09 = get_formatted_data(\"parallel-09.output\", \"parallel-09.error\", launches)"
   ]
  },
  {
   "cell_type": "code",
   "execution_count": 120,
   "metadata": {},
   "outputs": [],
   "source": [
    "d09 = pd.DataFrame(d09)"
   ]
  },
  {
   "cell_type": "code",
   "execution_count": 125,
   "metadata": {},
   "outputs": [
    {
     "data": {
      "text/html": [
       "<div>\n",
       "<style scoped>\n",
       "    .dataframe tbody tr th:only-of-type {\n",
       "        vertical-align: middle;\n",
       "    }\n",
       "\n",
       "    .dataframe tbody tr th {\n",
       "        vertical-align: top;\n",
       "    }\n",
       "\n",
       "    .dataframe thead th {\n",
       "        text-align: right;\n",
       "    }\n",
       "</style>\n",
       "<table border=\"1\" class=\"dataframe\">\n",
       "  <thead>\n",
       "    <tr style=\"text-align: right;\">\n",
       "      <th></th>\n",
       "      <th>master_t</th>\n",
       "      <th>elapsed_t</th>\n",
       "    </tr>\n",
       "    <tr>\n",
       "      <th>P</th>\n",
       "      <th></th>\n",
       "      <th></th>\n",
       "    </tr>\n",
       "  </thead>\n",
       "  <tbody>\n",
       "    <tr>\n",
       "      <th>1</th>\n",
       "      <td>25.718885</td>\n",
       "      <td>25.986667</td>\n",
       "    </tr>\n",
       "    <tr>\n",
       "      <th>4</th>\n",
       "      <td>6.460006</td>\n",
       "      <td>6.770000</td>\n",
       "    </tr>\n",
       "    <tr>\n",
       "      <th>8</th>\n",
       "      <td>3.233128</td>\n",
       "      <td>3.580000</td>\n",
       "    </tr>\n",
       "    <tr>\n",
       "      <th>12</th>\n",
       "      <td>2.194665</td>\n",
       "      <td>2.593333</td>\n",
       "    </tr>\n",
       "    <tr>\n",
       "      <th>16</th>\n",
       "      <td>1.656970</td>\n",
       "      <td>2.100000</td>\n",
       "    </tr>\n",
       "    <tr>\n",
       "      <th>20</th>\n",
       "      <td>1.342580</td>\n",
       "      <td>1.843333</td>\n",
       "    </tr>\n",
       "    <tr>\n",
       "      <th>24</th>\n",
       "      <td>1.135838</td>\n",
       "      <td>1.703333</td>\n",
       "    </tr>\n",
       "    <tr>\n",
       "      <th>28</th>\n",
       "      <td>1.034970</td>\n",
       "      <td>1.726667</td>\n",
       "    </tr>\n",
       "    <tr>\n",
       "      <th>32</th>\n",
       "      <td>0.926676</td>\n",
       "      <td>1.656667</td>\n",
       "    </tr>\n",
       "    <tr>\n",
       "      <th>36</th>\n",
       "      <td>0.866193</td>\n",
       "      <td>1.743333</td>\n",
       "    </tr>\n",
       "    <tr>\n",
       "      <th>40</th>\n",
       "      <td>0.778915</td>\n",
       "      <td>1.763333</td>\n",
       "    </tr>\n",
       "    <tr>\n",
       "      <th>44</th>\n",
       "      <td>0.773904</td>\n",
       "      <td>1.853333</td>\n",
       "    </tr>\n",
       "    <tr>\n",
       "      <th>48</th>\n",
       "      <td>0.805557</td>\n",
       "      <td>1.996667</td>\n",
       "    </tr>\n",
       "  </tbody>\n",
       "</table>\n",
       "</div>"
      ],
      "text/plain": [
       "     master_t  elapsed_t\n",
       "P                       \n",
       "1   25.718885  25.986667\n",
       "4    6.460006   6.770000\n",
       "8    3.233128   3.580000\n",
       "12   2.194665   2.593333\n",
       "16   1.656970   2.100000\n",
       "20   1.342580   1.843333\n",
       "24   1.135838   1.703333\n",
       "28   1.034970   1.726667\n",
       "32   0.926676   1.656667\n",
       "36   0.866193   1.743333\n",
       "40   0.778915   1.763333\n",
       "44   0.773904   1.853333\n",
       "48   0.805557   1.996667"
      ]
     },
     "execution_count": 125,
     "metadata": {},
     "output_type": "execute_result"
    }
   ],
   "source": [
    "d09[[\"P\", \"master_t\", \"elapsed_t\"]].groupby(\"P\").mean()"
   ]
  },
  {
   "cell_type": "code",
   "execution_count": 126,
   "metadata": {},
   "outputs": [],
   "source": [
    "d09[\"r\"] = d09.loc[1, \"master_t\"] / d09[\"master_t\"]\n",
    "d09[\"re\"] = d09.loc[1, \"elapsed_t\"] / d09[\"elapsed_t\"]"
   ]
  },
  {
   "cell_type": "code",
   "execution_count": 127,
   "metadata": {},
   "outputs": [
    {
     "data": {
      "text/plain": [
       "[<matplotlib.lines.Line2D at 0x7f91888fc040>,\n",
       " <matplotlib.lines.Line2D at 0x7f91888fc130>]"
      ]
     },
     "execution_count": 127,
     "metadata": {},
     "output_type": "execute_result"
    },
    {
     "data": {
      "image/png": "[encoded data removed]",
      "text/plain": [
       "<Figure size 432x288 with 1 Axes>"
      ]
     },
     "metadata": {
      "needs_background": "light"
     },
     "output_type": "display_data"
    }
   ],
   "source": [
    "plt.plot(d09[[\"r\", \"re\"]])"
   ]
  },
  {
   "cell_type": "code",
   "execution_count": null,
   "metadata": {},
   "outputs": [],
   "source": []
  }
 ],
 "metadata": {
  "kernelspec": {
   "display_name": "Python 3",
   "language": "python",
   "name": "python3"
  },
  "language_info": {
   "codemirror_mode": {
    "name": "ipython",
    "version": 3
   },
   "file_extension": ".py",
   "mimetype": "text/x-python",
   "name": "python",
   "nbconvert_exporter": "python",
   "pygments_lexer": "ipython3",
   "version": "3.8.6"
  }
 },
 "nbformat": 4,
 "nbformat_minor": 4
}
