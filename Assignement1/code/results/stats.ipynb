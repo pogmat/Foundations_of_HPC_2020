{
 "cells": [
  {
   "cell_type": "code",
   "execution_count": 1,
   "metadata": {},
   "outputs": [],
   "source": [
    "import re\n",
    "import numpy as np\n",
    "import pandas as pd\n",
    "import matplotlib.pyplot as plt"
   ]
  },
  {
   "cell_type": "code",
   "execution_count": 2,
   "metadata": {},
   "outputs": [],
   "source": [
    "def get_formatted_data(output_name, error_name, launches):\n",
    "    data = []\n",
    "    trials_re = re.compile(\" # of trials = (.*) ,\")\n",
    "    estimate_re = re.compile(\"estimate of pi is (.*) \")\n",
    "    master_t_re = re.compile(\"master processor : (.*) \")\n",
    "    elapsed_t_re = re.compile(\"system (.*)elapsed \")\n",
    "    cpu_re = re.compile(\"elapsed (.*)%CPU \")\n",
    "    with open(output_name, \"r\") as output, open(error_name, \"r\") as error:\n",
    "        for launch in launches:\n",
    "            o_chunk = \"\"\n",
    "            o_line_n = 0\n",
    "            e_chunk = \"\"\n",
    "            while o_line_n <= launch:\n",
    "                o_line = output.readline()\n",
    "                if o_line != '\\n':\n",
    "                    o_line_n += 1\n",
    "                    o_chunk += o_line\n",
    "            trials = int(trials_re.search(o_chunk).group(1))\n",
    "            estimate = float(estimate_re.search(o_chunk).group(1))\n",
    "            master_t = float(master_t_re.search(o_chunk).group(1))\n",
    "            procs_t = [master_t] + [float(re.compile(\"on processor {} : (.*) \".format(proc)).search(o_chunk).group(1)) for proc in range(1, launch)]\n",
    "            e_chunk += error.readline()\n",
    "            e_chunk += error.readline()\n",
    "            elapsed_s = elapsed_t_re.search(e_chunk).group(1).split(\":\")\n",
    "            elapsed_t = float(elapsed_s[-1]) + 60 * float(elapsed_s[-2])\n",
    "            cpu = float(cpu_re.search(e_chunk).group(1))/100\n",
    "            data.append({\"P\": launch,\n",
    "                         \"trials\": trials,\n",
    "                         \"estimate\": estimate,\n",
    "                         \"elapsed_t\": elapsed_t,\n",
    "                         \"procs_t\": procs_t,\n",
    "                         \"CPU\": cpu\n",
    "                         })\n",
    "        return data"
   ]
  },
  {
   "cell_type": "code",
   "execution_count": null,
   "metadata": {},
   "outputs": [],
   "source": []
  }
 ],
 "metadata": {
  "kernelspec": {
   "display_name": "Python 3",
   "language": "python",
   "name": "python3"
  },
  "language_info": {
   "codemirror_mode": {
    "name": "ipython",
    "version": 3
   },
   "file_extension": ".py",
   "mimetype": "text/x-python",
   "name": "python",
   "nbconvert_exporter": "python",
   "pygments_lexer": "ipython3",
   "version": "3.8.6"
  }
 },
 "nbformat": 4,
 "nbformat_minor": 4
}
